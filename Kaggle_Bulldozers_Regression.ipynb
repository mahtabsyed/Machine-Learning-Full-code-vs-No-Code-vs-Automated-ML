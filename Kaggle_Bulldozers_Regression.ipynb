{
  "nbformat": 4,
  "nbformat_minor": 0,
  "metadata": {
    "colab": {
      "provenance": [],
      "collapsed_sections": [],
      "toc_visible": true
    },
    "kernelspec": {
      "name": "python3",
      "display_name": "Python 3"
    },
    "language_info": {
      "name": "python"
    },
    "accelerator": "GPU",
    "gpuClass": "standard"
  },
  "cells": [
    {
      "cell_type": "markdown",
      "source": [
        "# XGBRegressor, 5 fold cross validation and Optuna Hyperparameter Tuning"
      ],
      "metadata": {
        "id": "_BZv8eazIl2I"
      }
    },
    {
      "cell_type": "markdown",
      "source": [
        "## Import Libraries"
      ],
      "metadata": {
        "id": "XlT-E3zTI8k7"
      }
    },
    {
      "cell_type": "code",
      "execution_count": null,
      "metadata": {
        "id": "QHzFB1aBI8k7"
      },
      "outputs": [],
      "source": [
        "! pip install optuna\n",
        "\n",
        "import pandas as pd\n",
        "import numpy as np\n",
        "from sklearn import preprocessing\n",
        "from sklearn.model_selection import train_test_split\n",
        "\n",
        "from sklearn.metrics import mean_squared_error\n",
        "from sklearn import model_selection\n",
        "\n",
        "import optuna\n",
        "from sklearn.ensemble import RandomForestRegressor\n",
        "from xgboost import XGBRegressor\n",
        "\n",
        "from sklearn.model_selection import GridSearchCV\n",
        "\n",
        "# Mount Google drive\n",
        "from google.colab import drive\n",
        "drive.mount('/content/drive')\n"
      ]
    },
    {
      "cell_type": "markdown",
      "source": [
        "## Util functions"
      ],
      "metadata": {
        "id": "Qgn_d84wI8k7"
      }
    },
    {
      "cell_type": "code",
      "source": [
        "from sklearn.metrics import mean_squared_log_error, mean_absolute_error, r2_score\n",
        "\n",
        "# Create function to evaluate model on a few different levels\n",
        "def show_scores(X_train, X_valid, y_train, y_valid, model):\n",
        "  \"\"\"\n",
        "  Usage > show_scores(X_train, X_valid, y_train, y_valid, model)\n",
        "  \"\"\"\n",
        "  train_preds = model.predict(X_train)\n",
        "  val_preds = model.predict(X_valid)\n",
        "  scores = {\"Training R^2\": r2_score(y_train, train_preds),\n",
        "            \"Valid R^2\": r2_score(y_valid, val_preds),\n",
        "            # If True returns MSE value, if False returns RMSE value.\n",
        "            \"Train RMSE\": mean_squared_error(y_train, train_preds, squared=False),\n",
        "            \"*Valid RMSE\": mean_squared_error(y_valid, val_preds, squared=False)}\n",
        "\n",
        "  return scores"
      ],
      "metadata": {
        "id": "b9IiJvU3I8k7"
      },
      "execution_count": null,
      "outputs": []
    },
    {
      "cell_type": "markdown",
      "source": [
        "## Exploratory Data Analysis and Feature Engineering"
      ],
      "metadata": {
        "id": "oHh1_NM5JNpF"
      }
    },
    {
      "cell_type": "code",
      "source": [
        "df = pd.read_csv(\"drive/MyDrive/input/azure/bulldozers/TrainAndValid.csv\", low_memory=False)\n"
      ],
      "metadata": {
        "id": "lsYBYJjKJOok"
      },
      "execution_count": null,
      "outputs": []
    },
    {
      "cell_type": "code",
      "source": [
        "df.info()"
      ],
      "metadata": {
        "id": "3mkqO8b-JUo8"
      },
      "execution_count": null,
      "outputs": []
    },
    {
      "cell_type": "code",
      "source": [
        "df.isna().sum() / len(df)*100"
      ],
      "metadata": {
        "id": "cZex2jAfJ1d1"
      },
      "execution_count": null,
      "outputs": []
    },
    {
      "cell_type": "code",
      "source": [
        "df.head().T"
      ],
      "metadata": {
        "id": "bEkDifvlKKQR"
      },
      "execution_count": null,
      "outputs": []
    },
    {
      "cell_type": "markdown",
      "source": [
        "## Feature Engineer data"
      ],
      "metadata": {
        "id": "f6NWENfZOYps"
      }
    },
    {
      "cell_type": "code",
      "source": [
        "# Import data again but this time parse dates\n",
        "# which converts the specified field to a datetime object\n",
        "df = pd.read_csv(\"drive/MyDrive/input/azure/bulldozers/TrainAndValid.csv\",\n",
        "                 low_memory=False,\n",
        "                 parse_dates=[\"saledate\"])"
      ],
      "metadata": {
        "id": "nSVYNHQaKaFh"
      },
      "execution_count": null,
      "outputs": []
    },
    {
      "cell_type": "code",
      "source": [
        "df.info()"
      ],
      "metadata": {
        "id": "zdG7x9fPOeRM"
      },
      "execution_count": null,
      "outputs": []
    },
    {
      "cell_type": "code",
      "source": [
        "# Sort DataFrame in date order\n",
        "df.sort_values(by=[\"saledate\"], inplace=True, ascending=True)\n",
        "df.saledate.head(20)"
      ],
      "metadata": {
        "id": "ZfDuZ9VCOuwR"
      },
      "execution_count": null,
      "outputs": []
    },
    {
      "cell_type": "code",
      "source": [
        "df[\"saleYear\"] = df.saledate.dt.year\n",
        "df[\"saleMonth\"] = df.saledate.dt.month\n",
        "df[\"saleDay\"] = df.saledate.dt.day\n",
        "df[\"saleDayOfWeek\"] = df.saledate.dt.dayofweek\n",
        "df[\"saleDayOfYear\"] = df.saledate.dt.dayofyear"
      ],
      "metadata": {
        "id": "gbmdrk9IQGE8"
      },
      "execution_count": null,
      "outputs": []
    },
    {
      "cell_type": "code",
      "source": [
        "df.head().T"
      ],
      "metadata": {
        "id": "fmsO4HHGQNbC"
      },
      "execution_count": null,
      "outputs": []
    },
    {
      "cell_type": "code",
      "source": [
        "# Now we've enriched our DataFrame with date time features, we can remove 'saledate'\n",
        "df.drop(\"saledate\", axis=1, inplace=True)"
      ],
      "metadata": {
        "id": "_ArROPhFQQab"
      },
      "execution_count": null,
      "outputs": []
    },
    {
      "cell_type": "code",
      "source": [
        "df.head().T"
      ],
      "metadata": {
        "id": "MUKSRZA1QUwF"
      },
      "execution_count": null,
      "outputs": []
    },
    {
      "cell_type": "code",
      "source": [
        "# Find the columns which contain strings\n",
        "for label, content in df.items():\n",
        "    if pd.api.types.is_string_dtype(content):\n",
        "        print(label)"
      ],
      "metadata": {
        "id": "LWxYdJT6QW1N"
      },
      "execution_count": null,
      "outputs": []
    },
    {
      "cell_type": "code",
      "source": [
        "df.isna().sum() / len(df)*100"
      ],
      "metadata": {
        "id": "YYFxLJYoQmdX"
      },
      "execution_count": null,
      "outputs": []
    },
    {
      "cell_type": "code",
      "source": [
        "df.head().T"
      ],
      "metadata": {
        "id": "5EE-yDM3Rppi"
      },
      "execution_count": null,
      "outputs": []
    },
    {
      "cell_type": "code",
      "source": [
        "df.info()"
      ],
      "metadata": {
        "id": "O99ZL1bHTmNL"
      },
      "execution_count": null,
      "outputs": []
    },
    {
      "cell_type": "code",
      "source": [
        "# This will turn all of the string value into category values\n",
        "for label, content in df.items():\n",
        "    if pd.api.types.is_string_dtype(content):\n",
        "        df[label] = content.astype(\"category\").cat.as_ordered()"
      ],
      "metadata": {
        "id": "HVDiqbEITq7R"
      },
      "execution_count": null,
      "outputs": []
    },
    {
      "cell_type": "code",
      "source": [
        "df.info()"
      ],
      "metadata": {
        "id": "Iai8s6_gTxZI"
      },
      "execution_count": null,
      "outputs": []
    },
    {
      "cell_type": "code",
      "source": [
        "df.UsageBand.cat.categories"
      ],
      "metadata": {
        "id": "vNKa8nDzTz72"
      },
      "execution_count": null,
      "outputs": []
    },
    {
      "cell_type": "code",
      "source": [
        "df.UsageBand.cat.codes"
      ],
      "metadata": {
        "id": "GBzTujYxUCFs"
      },
      "execution_count": null,
      "outputs": []
    },
    {
      "cell_type": "code",
      "source": [
        "df.isna().sum() / len(df)*100"
      ],
      "metadata": {
        "id": "zCUx5h7aUIZ9"
      },
      "execution_count": null,
      "outputs": []
    },
    {
      "cell_type": "code",
      "source": [],
      "metadata": {
        "id": "ZjAzmQuvUWtz"
      },
      "execution_count": null,
      "outputs": []
    },
    {
      "cell_type": "markdown",
      "source": [
        "### Fill missing numerical values"
      ],
      "metadata": {
        "id": "yupLq_DkUarx"
      }
    },
    {
      "cell_type": "code",
      "source": [
        "for label, content in df.items():\n",
        "    if pd.api.types.is_numeric_dtype(content):\n",
        "        print(label)"
      ],
      "metadata": {
        "id": "8h-jv03KUdFh"
      },
      "execution_count": null,
      "outputs": []
    },
    {
      "cell_type": "code",
      "source": [
        "# Check for which numeric columns have null values\n",
        "for label, content in df.items():\n",
        "    if pd.api.types.is_numeric_dtype(content):\n",
        "        if pd.isnull(content).sum():\n",
        "            print(label)"
      ],
      "metadata": {
        "colab": {
          "base_uri": "https://localhost:8080/"
        },
        "id": "FGg_qm3MUfnR",
        "outputId": "9b657bdb-bff2-46a4-ed5b-debac05163e6"
      },
      "execution_count": null,
      "outputs": [
        {
          "output_type": "stream",
          "name": "stdout",
          "text": [
            "auctioneerID\n",
            "MachineHoursCurrentMeter\n"
          ]
        }
      ]
    },
    {
      "cell_type": "code",
      "source": [
        "# Fill numeric rows with the median\n",
        "# And not mean as outliers can affect the mean, but not median\n",
        "for label, content in df.items():\n",
        "    if pd.api.types.is_numeric_dtype(content):\n",
        "        if pd.isnull(content).sum():\n",
        "            # Add a binary column which tells us if the data was missing or not\n",
        "            df[label+\"_is_missing\"] = pd.isnull(content)\n",
        "            # Fill missing numeric values with median\n",
        "            df[label] = content.fillna(content.median())"
      ],
      "metadata": {
        "id": "ajP8FxogUknn"
      },
      "execution_count": null,
      "outputs": []
    },
    {
      "cell_type": "code",
      "source": [
        "df.info()"
      ],
      "metadata": {
        "id": "KfoxyW0eUqfy"
      },
      "execution_count": null,
      "outputs": []
    },
    {
      "cell_type": "code",
      "source": [
        "# Check if there's any null numeric values\n",
        "for label, content in df.items():\n",
        "    if pd.api.types.is_numeric_dtype(content):\n",
        "        if pd.isnull(content).sum():\n",
        "            print(label)"
      ],
      "metadata": {
        "id": "d8FI-UbTUt9U"
      },
      "execution_count": null,
      "outputs": []
    },
    {
      "cell_type": "code",
      "source": [
        "# Check to see how many examples were missing\n",
        "df.auctioneerID_is_missing.value_counts()"
      ],
      "metadata": {
        "colab": {
          "base_uri": "https://localhost:8080/"
        },
        "id": "PVIyd0HNU31I",
        "outputId": "40815b57-9ac8-4cb2-d7a0-36498aac163b"
      },
      "execution_count": null,
      "outputs": [
        {
          "output_type": "execute_result",
          "data": {
            "text/plain": [
              "False    392562\n",
              "True      20136\n",
              "Name: auctioneerID_is_missing, dtype: int64"
            ]
          },
          "metadata": {},
          "execution_count": 46
        }
      ]
    },
    {
      "cell_type": "markdown",
      "source": [
        "### Filling and turning categorical variables into numbers"
      ],
      "metadata": {
        "id": "7OHN4qMiVBMX"
      }
    },
    {
      "cell_type": "code",
      "source": [
        "# Check for columns which aren't numeric\n",
        "for label, content in df.items():\n",
        "    if not pd.api.types.is_numeric_dtype(content):\n",
        "        print(label)"
      ],
      "metadata": {
        "id": "no_h2o5YVCEN"
      },
      "execution_count": null,
      "outputs": []
    },
    {
      "cell_type": "code",
      "source": [
        "df.info()"
      ],
      "metadata": {
        "id": "eAhz96o9VLa-"
      },
      "execution_count": null,
      "outputs": []
    },
    {
      "cell_type": "code",
      "source": [
        "# Turn categorical variables into numbers and fill missing\n",
        "for label, content in df.items():\n",
        "    if not pd.api.types.is_numeric_dtype(content):\n",
        "        # Add binary column to indicate whether sample had missing value\n",
        "        df[label+\"_is_missing\"] = pd.isnull(content)\n",
        "        # Turn categories into numbers and add +1\n",
        "        df[label] = pd.Categorical(content).codes+1"
      ],
      "metadata": {
        "id": "8sFgsl58VE5N"
      },
      "execution_count": null,
      "outputs": []
    },
    {
      "cell_type": "code",
      "source": [
        "df.info()"
      ],
      "metadata": {
        "colab": {
          "base_uri": "https://localhost:8080/"
        },
        "id": "c-FDIN21V5lV",
        "outputId": "1da9a45f-6ced-4fc4-eaa2-a91a7dd5ff7f"
      },
      "execution_count": null,
      "outputs": [
        {
          "output_type": "stream",
          "name": "stdout",
          "text": [
            "<class 'pandas.core.frame.DataFrame'>\n",
            "Int64Index: 412698 entries, 205615 to 409203\n",
            "Columns: 103 entries, SalesID to Steering_Controls_is_missing\n",
            "dtypes: bool(46), float64(3), int16(4), int64(10), int8(40)\n",
            "memory usage: 81.1 MB\n"
          ]
        }
      ]
    },
    {
      "cell_type": "code",
      "source": [
        "df.isna().sum()"
      ],
      "metadata": {
        "colab": {
          "base_uri": "https://localhost:8080/"
        },
        "id": "G1-DmZnjVUeV",
        "outputId": "1b5c92d9-886f-4e76-d5fd-d9ef8f1347e6"
      },
      "execution_count": null,
      "outputs": [
        {
          "output_type": "execute_result",
          "data": {
            "text/plain": [
              "SalesID                         0\n",
              "SalePrice                       0\n",
              "MachineID                       0\n",
              "ModelID                         0\n",
              "datasource                      0\n",
              "                               ..\n",
              "Backhoe_Mounting_is_missing     0\n",
              "Blade_Type_is_missing           0\n",
              "Travel_Controls_is_missing      0\n",
              "Differential_Type_is_missing    0\n",
              "Steering_Controls_is_missing    0\n",
              "Length: 103, dtype: int64"
            ]
          },
          "metadata": {},
          "execution_count": 56
        }
      ]
    },
    {
      "cell_type": "code",
      "source": [
        "df.head().T"
      ],
      "metadata": {
        "id": "aQPhJWR4Vgbp"
      },
      "execution_count": null,
      "outputs": []
    },
    {
      "cell_type": "markdown",
      "source": [
        "### Add a fold number in data"
      ],
      "metadata": {
        "id": "2VgEfBQtWBPd"
      }
    },
    {
      "cell_type": "code",
      "source": [
        "# Add a new col and initiate with value -1\n",
        "df[\"kfold\"] = -1"
      ],
      "metadata": {
        "id": "XRt7JCh0WEnB"
      },
      "execution_count": null,
      "outputs": []
    },
    {
      "cell_type": "code",
      "source": [
        "df.columns"
      ],
      "metadata": {
        "colab": {
          "base_uri": "https://localhost:8080/"
        },
        "id": "XI0cYtQBWPEH",
        "outputId": "812b9db7-2c74-431b-d3e5-5e62321c18b7"
      },
      "execution_count": null,
      "outputs": [
        {
          "output_type": "execute_result",
          "data": {
            "text/plain": [
              "Index(['SalesID', 'SalePrice', 'MachineID', 'ModelID', 'datasource',\n",
              "       'auctioneerID', 'YearMade', 'MachineHoursCurrentMeter', 'UsageBand',\n",
              "       'fiModelDesc',\n",
              "       ...\n",
              "       'Stick_Length_is_missing', 'Thumb_is_missing',\n",
              "       'Pattern_Changer_is_missing', 'Grouser_Type_is_missing',\n",
              "       'Backhoe_Mounting_is_missing', 'Blade_Type_is_missing',\n",
              "       'Travel_Controls_is_missing', 'Differential_Type_is_missing',\n",
              "       'Steering_Controls_is_missing', 'kfold'],\n",
              "      dtype='object', length=104)"
            ]
          },
          "metadata": {},
          "execution_count": 61
        }
      ]
    },
    {
      "cell_type": "code",
      "source": [
        "df.head()"
      ],
      "metadata": {
        "colab": {
          "base_uri": "https://localhost:8080/",
          "height": 299
        },
        "id": "JUDBqVJDWU-W",
        "outputId": "09f88165-1500-464b-a6ef-1226eb316f0e"
      },
      "execution_count": null,
      "outputs": [
        {
          "output_type": "execute_result",
          "data": {
            "text/plain": [
              "        SalesID  SalePrice  MachineID  ModelID  datasource  auctioneerID  \\\n",
              "205615  1646770     9500.0    1126363     8434         132          18.0   \n",
              "274835  1821514    14000.0    1194089    10150         132          99.0   \n",
              "141296  1505138    50000.0    1473654     4139         132          99.0   \n",
              "212552  1671174    16000.0    1327630     8591         132          99.0   \n",
              "62755   1329056    22000.0    1336053     4089         132          99.0   \n",
              "\n",
              "        YearMade  MachineHoursCurrentMeter  UsageBand  fiModelDesc  ...  \\\n",
              "205615      1974                       0.0          0         4593  ...   \n",
              "274835      1980                       0.0          0         1820  ...   \n",
              "141296      1978                       0.0          0         2348  ...   \n",
              "212552      1980                       0.0          0         1819  ...   \n",
              "62755       1984                       0.0          0         2119  ...   \n",
              "\n",
              "        Stick_Length_is_missing  Thumb_is_missing  Pattern_Changer_is_missing  \\\n",
              "205615                     True              True                        True   \n",
              "274835                     True              True                        True   \n",
              "141296                     True              True                        True   \n",
              "212552                     True              True                        True   \n",
              "62755                      True              True                        True   \n",
              "\n",
              "        Grouser_Type_is_missing  Backhoe_Mounting_is_missing  \\\n",
              "205615                     True                        False   \n",
              "274835                     True                         True   \n",
              "141296                     True                        False   \n",
              "212552                     True                         True   \n",
              "62755                      True                        False   \n",
              "\n",
              "        Blade_Type_is_missing  Travel_Controls_is_missing  \\\n",
              "205615                  False                       False   \n",
              "274835                   True                        True   \n",
              "141296                  False                       False   \n",
              "212552                   True                        True   \n",
              "62755                   False                       False   \n",
              "\n",
              "        Differential_Type_is_missing  Steering_Controls_is_missing  kfold  \n",
              "205615                          True                          True     -1  \n",
              "274835                         False                         False     -1  \n",
              "141296                          True                          True     -1  \n",
              "212552                         False                         False     -1  \n",
              "62755                           True                          True     -1  \n",
              "\n",
              "[5 rows x 104 columns]"
            ],
            "text/html": [
              "\n",
              "  <div id=\"df-62d02b56-d824-4bd0-9fb3-fe64476c84fe\">\n",
              "    <div class=\"colab-df-container\">\n",
              "      <div>\n",
              "<style scoped>\n",
              "    .dataframe tbody tr th:only-of-type {\n",
              "        vertical-align: middle;\n",
              "    }\n",
              "\n",
              "    .dataframe tbody tr th {\n",
              "        vertical-align: top;\n",
              "    }\n",
              "\n",
              "    .dataframe thead th {\n",
              "        text-align: right;\n",
              "    }\n",
              "</style>\n",
              "<table border=\"1\" class=\"dataframe\">\n",
              "  <thead>\n",
              "    <tr style=\"text-align: right;\">\n",
              "      <th></th>\n",
              "      <th>SalesID</th>\n",
              "      <th>SalePrice</th>\n",
              "      <th>MachineID</th>\n",
              "      <th>ModelID</th>\n",
              "      <th>datasource</th>\n",
              "      <th>auctioneerID</th>\n",
              "      <th>YearMade</th>\n",
              "      <th>MachineHoursCurrentMeter</th>\n",
              "      <th>UsageBand</th>\n",
              "      <th>fiModelDesc</th>\n",
              "      <th>...</th>\n",
              "      <th>Stick_Length_is_missing</th>\n",
              "      <th>Thumb_is_missing</th>\n",
              "      <th>Pattern_Changer_is_missing</th>\n",
              "      <th>Grouser_Type_is_missing</th>\n",
              "      <th>Backhoe_Mounting_is_missing</th>\n",
              "      <th>Blade_Type_is_missing</th>\n",
              "      <th>Travel_Controls_is_missing</th>\n",
              "      <th>Differential_Type_is_missing</th>\n",
              "      <th>Steering_Controls_is_missing</th>\n",
              "      <th>kfold</th>\n",
              "    </tr>\n",
              "  </thead>\n",
              "  <tbody>\n",
              "    <tr>\n",
              "      <th>205615</th>\n",
              "      <td>1646770</td>\n",
              "      <td>9500.0</td>\n",
              "      <td>1126363</td>\n",
              "      <td>8434</td>\n",
              "      <td>132</td>\n",
              "      <td>18.0</td>\n",
              "      <td>1974</td>\n",
              "      <td>0.0</td>\n",
              "      <td>0</td>\n",
              "      <td>4593</td>\n",
              "      <td>...</td>\n",
              "      <td>True</td>\n",
              "      <td>True</td>\n",
              "      <td>True</td>\n",
              "      <td>True</td>\n",
              "      <td>False</td>\n",
              "      <td>False</td>\n",
              "      <td>False</td>\n",
              "      <td>True</td>\n",
              "      <td>True</td>\n",
              "      <td>-1</td>\n",
              "    </tr>\n",
              "    <tr>\n",
              "      <th>274835</th>\n",
              "      <td>1821514</td>\n",
              "      <td>14000.0</td>\n",
              "      <td>1194089</td>\n",
              "      <td>10150</td>\n",
              "      <td>132</td>\n",
              "      <td>99.0</td>\n",
              "      <td>1980</td>\n",
              "      <td>0.0</td>\n",
              "      <td>0</td>\n",
              "      <td>1820</td>\n",
              "      <td>...</td>\n",
              "      <td>True</td>\n",
              "      <td>True</td>\n",
              "      <td>True</td>\n",
              "      <td>True</td>\n",
              "      <td>True</td>\n",
              "      <td>True</td>\n",
              "      <td>True</td>\n",
              "      <td>False</td>\n",
              "      <td>False</td>\n",
              "      <td>-1</td>\n",
              "    </tr>\n",
              "    <tr>\n",
              "      <th>141296</th>\n",
              "      <td>1505138</td>\n",
              "      <td>50000.0</td>\n",
              "      <td>1473654</td>\n",
              "      <td>4139</td>\n",
              "      <td>132</td>\n",
              "      <td>99.0</td>\n",
              "      <td>1978</td>\n",
              "      <td>0.0</td>\n",
              "      <td>0</td>\n",
              "      <td>2348</td>\n",
              "      <td>...</td>\n",
              "      <td>True</td>\n",
              "      <td>True</td>\n",
              "      <td>True</td>\n",
              "      <td>True</td>\n",
              "      <td>False</td>\n",
              "      <td>False</td>\n",
              "      <td>False</td>\n",
              "      <td>True</td>\n",
              "      <td>True</td>\n",
              "      <td>-1</td>\n",
              "    </tr>\n",
              "    <tr>\n",
              "      <th>212552</th>\n",
              "      <td>1671174</td>\n",
              "      <td>16000.0</td>\n",
              "      <td>1327630</td>\n",
              "      <td>8591</td>\n",
              "      <td>132</td>\n",
              "      <td>99.0</td>\n",
              "      <td>1980</td>\n",
              "      <td>0.0</td>\n",
              "      <td>0</td>\n",
              "      <td>1819</td>\n",
              "      <td>...</td>\n",
              "      <td>True</td>\n",
              "      <td>True</td>\n",
              "      <td>True</td>\n",
              "      <td>True</td>\n",
              "      <td>True</td>\n",
              "      <td>True</td>\n",
              "      <td>True</td>\n",
              "      <td>False</td>\n",
              "      <td>False</td>\n",
              "      <td>-1</td>\n",
              "    </tr>\n",
              "    <tr>\n",
              "      <th>62755</th>\n",
              "      <td>1329056</td>\n",
              "      <td>22000.0</td>\n",
              "      <td>1336053</td>\n",
              "      <td>4089</td>\n",
              "      <td>132</td>\n",
              "      <td>99.0</td>\n",
              "      <td>1984</td>\n",
              "      <td>0.0</td>\n",
              "      <td>0</td>\n",
              "      <td>2119</td>\n",
              "      <td>...</td>\n",
              "      <td>True</td>\n",
              "      <td>True</td>\n",
              "      <td>True</td>\n",
              "      <td>True</td>\n",
              "      <td>False</td>\n",
              "      <td>False</td>\n",
              "      <td>False</td>\n",
              "      <td>True</td>\n",
              "      <td>True</td>\n",
              "      <td>-1</td>\n",
              "    </tr>\n",
              "  </tbody>\n",
              "</table>\n",
              "<p>5 rows × 104 columns</p>\n",
              "</div>\n",
              "      <button class=\"colab-df-convert\" onclick=\"convertToInteractive('df-62d02b56-d824-4bd0-9fb3-fe64476c84fe')\"\n",
              "              title=\"Convert this dataframe to an interactive table.\"\n",
              "              style=\"display:none;\">\n",
              "        \n",
              "  <svg xmlns=\"http://www.w3.org/2000/svg\" height=\"24px\"viewBox=\"0 0 24 24\"\n",
              "       width=\"24px\">\n",
              "    <path d=\"M0 0h24v24H0V0z\" fill=\"none\"/>\n",
              "    <path d=\"M18.56 5.44l.94 2.06.94-2.06 2.06-.94-2.06-.94-.94-2.06-.94 2.06-2.06.94zm-11 1L8.5 8.5l.94-2.06 2.06-.94-2.06-.94L8.5 2.5l-.94 2.06-2.06.94zm10 10l.94 2.06.94-2.06 2.06-.94-2.06-.94-.94-2.06-.94 2.06-2.06.94z\"/><path d=\"M17.41 7.96l-1.37-1.37c-.4-.4-.92-.59-1.43-.59-.52 0-1.04.2-1.43.59L10.3 9.45l-7.72 7.72c-.78.78-.78 2.05 0 2.83L4 21.41c.39.39.9.59 1.41.59.51 0 1.02-.2 1.41-.59l7.78-7.78 2.81-2.81c.8-.78.8-2.07 0-2.86zM5.41 20L4 18.59l7.72-7.72 1.47 1.35L5.41 20z\"/>\n",
              "  </svg>\n",
              "      </button>\n",
              "      \n",
              "  <style>\n",
              "    .colab-df-container {\n",
              "      display:flex;\n",
              "      flex-wrap:wrap;\n",
              "      gap: 12px;\n",
              "    }\n",
              "\n",
              "    .colab-df-convert {\n",
              "      background-color: #E8F0FE;\n",
              "      border: none;\n",
              "      border-radius: 50%;\n",
              "      cursor: pointer;\n",
              "      display: none;\n",
              "      fill: #1967D2;\n",
              "      height: 32px;\n",
              "      padding: 0 0 0 0;\n",
              "      width: 32px;\n",
              "    }\n",
              "\n",
              "    .colab-df-convert:hover {\n",
              "      background-color: #E2EBFA;\n",
              "      box-shadow: 0px 1px 2px rgba(60, 64, 67, 0.3), 0px 1px 3px 1px rgba(60, 64, 67, 0.15);\n",
              "      fill: #174EA6;\n",
              "    }\n",
              "\n",
              "    [theme=dark] .colab-df-convert {\n",
              "      background-color: #3B4455;\n",
              "      fill: #D2E3FC;\n",
              "    }\n",
              "\n",
              "    [theme=dark] .colab-df-convert:hover {\n",
              "      background-color: #434B5C;\n",
              "      box-shadow: 0px 1px 3px 1px rgba(0, 0, 0, 0.15);\n",
              "      filter: drop-shadow(0px 1px 2px rgba(0, 0, 0, 0.3));\n",
              "      fill: #FFFFFF;\n",
              "    }\n",
              "  </style>\n",
              "\n",
              "      <script>\n",
              "        const buttonEl =\n",
              "          document.querySelector('#df-62d02b56-d824-4bd0-9fb3-fe64476c84fe button.colab-df-convert');\n",
              "        buttonEl.style.display =\n",
              "          google.colab.kernel.accessAllowed ? 'block' : 'none';\n",
              "\n",
              "        async function convertToInteractive(key) {\n",
              "          const element = document.querySelector('#df-62d02b56-d824-4bd0-9fb3-fe64476c84fe');\n",
              "          const dataTable =\n",
              "            await google.colab.kernel.invokeFunction('convertToInteractive',\n",
              "                                                     [key], {});\n",
              "          if (!dataTable) return;\n",
              "\n",
              "          const docLinkHtml = 'Like what you see? Visit the ' +\n",
              "            '<a target=\"_blank\" href=https://colab.research.google.com/notebooks/data_table.ipynb>data table notebook</a>'\n",
              "            + ' to learn more about interactive tables.';\n",
              "          element.innerHTML = '';\n",
              "          dataTable['output_type'] = 'display_data';\n",
              "          await google.colab.output.renderOutput(dataTable, element);\n",
              "          const docLink = document.createElement('div');\n",
              "          docLink.innerHTML = docLinkHtml;\n",
              "          element.appendChild(docLink);\n",
              "        }\n",
              "      </script>\n",
              "    </div>\n",
              "  </div>\n",
              "  "
            ]
          },
          "metadata": {},
          "execution_count": 62
        }
      ]
    },
    {
      "cell_type": "code",
      "source": [
        "kf = model_selection.KFold(n_splits=5, shuffle=True, random_state=1)\n",
        "for fold, (train_indices, valid_indices) in enumerate(kf.split(X=df)):\n",
        "  print(fold, train_indices, valid_indices)\n",
        "  df.loc[valid_indices, \"kfold\"] = fold"
      ],
      "metadata": {
        "colab": {
          "base_uri": "https://localhost:8080/"
        },
        "id": "FwZiJ07GWZCU",
        "outputId": "445a96fd-7d48-43c9-de77-3cef38e8b062"
      },
      "execution_count": null,
      "outputs": [
        {
          "output_type": "stream",
          "name": "stdout",
          "text": [
            "0 [     0      2      5 ... 412693 412694 412696] [     1      3      4 ... 412688 412695 412697]\n",
            "1 [     0      1      2 ... 412693 412695 412697] [     6      9     11 ... 412682 412694 412696]\n",
            "2 [     0      1      2 ... 412695 412696 412697] [    22     29     30 ... 412680 412685 412686]\n",
            "3 [     0      1      3 ... 412695 412696 412697] [     2     10     12 ... 412679 412684 412689]\n",
            "4 [     1      2      3 ... 412695 412696 412697] [     0      5      7 ... 412691 412692 412693]\n"
          ]
        }
      ]
    },
    {
      "cell_type": "code",
      "source": [
        "df.head()"
      ],
      "metadata": {
        "colab": {
          "base_uri": "https://localhost:8080/",
          "height": 299
        },
        "id": "4LpH33x3Wx5t",
        "outputId": "c0f4631f-2971-4951-8d65-5d73a5396417"
      },
      "execution_count": null,
      "outputs": [
        {
          "output_type": "execute_result",
          "data": {
            "text/plain": [
              "        SalesID  SalePrice  MachineID  ModelID  datasource  auctioneerID  \\\n",
              "205615  1646770     9500.0    1126363     8434         132          18.0   \n",
              "274835  1821514    14000.0    1194089    10150         132          99.0   \n",
              "141296  1505138    50000.0    1473654     4139         132          99.0   \n",
              "212552  1671174    16000.0    1327630     8591         132          99.0   \n",
              "62755   1329056    22000.0    1336053     4089         132          99.0   \n",
              "\n",
              "        YearMade  MachineHoursCurrentMeter  UsageBand  fiModelDesc  ...  \\\n",
              "205615      1974                       0.0          0         4593  ...   \n",
              "274835      1980                       0.0          0         1820  ...   \n",
              "141296      1978                       0.0          0         2348  ...   \n",
              "212552      1980                       0.0          0         1819  ...   \n",
              "62755       1984                       0.0          0         2119  ...   \n",
              "\n",
              "        Stick_Length_is_missing  Thumb_is_missing  Pattern_Changer_is_missing  \\\n",
              "205615                     True              True                        True   \n",
              "274835                     True              True                        True   \n",
              "141296                     True              True                        True   \n",
              "212552                     True              True                        True   \n",
              "62755                      True              True                        True   \n",
              "\n",
              "        Grouser_Type_is_missing  Backhoe_Mounting_is_missing  \\\n",
              "205615                     True                        False   \n",
              "274835                     True                         True   \n",
              "141296                     True                        False   \n",
              "212552                     True                         True   \n",
              "62755                      True                        False   \n",
              "\n",
              "        Blade_Type_is_missing  Travel_Controls_is_missing  \\\n",
              "205615                  False                       False   \n",
              "274835                   True                        True   \n",
              "141296                  False                       False   \n",
              "212552                   True                        True   \n",
              "62755                   False                       False   \n",
              "\n",
              "        Differential_Type_is_missing  Steering_Controls_is_missing  kfold  \n",
              "205615                          True                          True      0  \n",
              "274835                         False                         False      4  \n",
              "141296                          True                          True      1  \n",
              "212552                         False                         False      0  \n",
              "62755                           True                          True      0  \n",
              "\n",
              "[5 rows x 104 columns]"
            ],
            "text/html": [
              "\n",
              "  <div id=\"df-3342a52b-beea-43d2-904d-5076c540592e\">\n",
              "    <div class=\"colab-df-container\">\n",
              "      <div>\n",
              "<style scoped>\n",
              "    .dataframe tbody tr th:only-of-type {\n",
              "        vertical-align: middle;\n",
              "    }\n",
              "\n",
              "    .dataframe tbody tr th {\n",
              "        vertical-align: top;\n",
              "    }\n",
              "\n",
              "    .dataframe thead th {\n",
              "        text-align: right;\n",
              "    }\n",
              "</style>\n",
              "<table border=\"1\" class=\"dataframe\">\n",
              "  <thead>\n",
              "    <tr style=\"text-align: right;\">\n",
              "      <th></th>\n",
              "      <th>SalesID</th>\n",
              "      <th>SalePrice</th>\n",
              "      <th>MachineID</th>\n",
              "      <th>ModelID</th>\n",
              "      <th>datasource</th>\n",
              "      <th>auctioneerID</th>\n",
              "      <th>YearMade</th>\n",
              "      <th>MachineHoursCurrentMeter</th>\n",
              "      <th>UsageBand</th>\n",
              "      <th>fiModelDesc</th>\n",
              "      <th>...</th>\n",
              "      <th>Stick_Length_is_missing</th>\n",
              "      <th>Thumb_is_missing</th>\n",
              "      <th>Pattern_Changer_is_missing</th>\n",
              "      <th>Grouser_Type_is_missing</th>\n",
              "      <th>Backhoe_Mounting_is_missing</th>\n",
              "      <th>Blade_Type_is_missing</th>\n",
              "      <th>Travel_Controls_is_missing</th>\n",
              "      <th>Differential_Type_is_missing</th>\n",
              "      <th>Steering_Controls_is_missing</th>\n",
              "      <th>kfold</th>\n",
              "    </tr>\n",
              "  </thead>\n",
              "  <tbody>\n",
              "    <tr>\n",
              "      <th>205615</th>\n",
              "      <td>1646770</td>\n",
              "      <td>9500.0</td>\n",
              "      <td>1126363</td>\n",
              "      <td>8434</td>\n",
              "      <td>132</td>\n",
              "      <td>18.0</td>\n",
              "      <td>1974</td>\n",
              "      <td>0.0</td>\n",
              "      <td>0</td>\n",
              "      <td>4593</td>\n",
              "      <td>...</td>\n",
              "      <td>True</td>\n",
              "      <td>True</td>\n",
              "      <td>True</td>\n",
              "      <td>True</td>\n",
              "      <td>False</td>\n",
              "      <td>False</td>\n",
              "      <td>False</td>\n",
              "      <td>True</td>\n",
              "      <td>True</td>\n",
              "      <td>0</td>\n",
              "    </tr>\n",
              "    <tr>\n",
              "      <th>274835</th>\n",
              "      <td>1821514</td>\n",
              "      <td>14000.0</td>\n",
              "      <td>1194089</td>\n",
              "      <td>10150</td>\n",
              "      <td>132</td>\n",
              "      <td>99.0</td>\n",
              "      <td>1980</td>\n",
              "      <td>0.0</td>\n",
              "      <td>0</td>\n",
              "      <td>1820</td>\n",
              "      <td>...</td>\n",
              "      <td>True</td>\n",
              "      <td>True</td>\n",
              "      <td>True</td>\n",
              "      <td>True</td>\n",
              "      <td>True</td>\n",
              "      <td>True</td>\n",
              "      <td>True</td>\n",
              "      <td>False</td>\n",
              "      <td>False</td>\n",
              "      <td>4</td>\n",
              "    </tr>\n",
              "    <tr>\n",
              "      <th>141296</th>\n",
              "      <td>1505138</td>\n",
              "      <td>50000.0</td>\n",
              "      <td>1473654</td>\n",
              "      <td>4139</td>\n",
              "      <td>132</td>\n",
              "      <td>99.0</td>\n",
              "      <td>1978</td>\n",
              "      <td>0.0</td>\n",
              "      <td>0</td>\n",
              "      <td>2348</td>\n",
              "      <td>...</td>\n",
              "      <td>True</td>\n",
              "      <td>True</td>\n",
              "      <td>True</td>\n",
              "      <td>True</td>\n",
              "      <td>False</td>\n",
              "      <td>False</td>\n",
              "      <td>False</td>\n",
              "      <td>True</td>\n",
              "      <td>True</td>\n",
              "      <td>1</td>\n",
              "    </tr>\n",
              "    <tr>\n",
              "      <th>212552</th>\n",
              "      <td>1671174</td>\n",
              "      <td>16000.0</td>\n",
              "      <td>1327630</td>\n",
              "      <td>8591</td>\n",
              "      <td>132</td>\n",
              "      <td>99.0</td>\n",
              "      <td>1980</td>\n",
              "      <td>0.0</td>\n",
              "      <td>0</td>\n",
              "      <td>1819</td>\n",
              "      <td>...</td>\n",
              "      <td>True</td>\n",
              "      <td>True</td>\n",
              "      <td>True</td>\n",
              "      <td>True</td>\n",
              "      <td>True</td>\n",
              "      <td>True</td>\n",
              "      <td>True</td>\n",
              "      <td>False</td>\n",
              "      <td>False</td>\n",
              "      <td>0</td>\n",
              "    </tr>\n",
              "    <tr>\n",
              "      <th>62755</th>\n",
              "      <td>1329056</td>\n",
              "      <td>22000.0</td>\n",
              "      <td>1336053</td>\n",
              "      <td>4089</td>\n",
              "      <td>132</td>\n",
              "      <td>99.0</td>\n",
              "      <td>1984</td>\n",
              "      <td>0.0</td>\n",
              "      <td>0</td>\n",
              "      <td>2119</td>\n",
              "      <td>...</td>\n",
              "      <td>True</td>\n",
              "      <td>True</td>\n",
              "      <td>True</td>\n",
              "      <td>True</td>\n",
              "      <td>False</td>\n",
              "      <td>False</td>\n",
              "      <td>False</td>\n",
              "      <td>True</td>\n",
              "      <td>True</td>\n",
              "      <td>0</td>\n",
              "    </tr>\n",
              "  </tbody>\n",
              "</table>\n",
              "<p>5 rows × 104 columns</p>\n",
              "</div>\n",
              "      <button class=\"colab-df-convert\" onclick=\"convertToInteractive('df-3342a52b-beea-43d2-904d-5076c540592e')\"\n",
              "              title=\"Convert this dataframe to an interactive table.\"\n",
              "              style=\"display:none;\">\n",
              "        \n",
              "  <svg xmlns=\"http://www.w3.org/2000/svg\" height=\"24px\"viewBox=\"0 0 24 24\"\n",
              "       width=\"24px\">\n",
              "    <path d=\"M0 0h24v24H0V0z\" fill=\"none\"/>\n",
              "    <path d=\"M18.56 5.44l.94 2.06.94-2.06 2.06-.94-2.06-.94-.94-2.06-.94 2.06-2.06.94zm-11 1L8.5 8.5l.94-2.06 2.06-.94-2.06-.94L8.5 2.5l-.94 2.06-2.06.94zm10 10l.94 2.06.94-2.06 2.06-.94-2.06-.94-.94-2.06-.94 2.06-2.06.94z\"/><path d=\"M17.41 7.96l-1.37-1.37c-.4-.4-.92-.59-1.43-.59-.52 0-1.04.2-1.43.59L10.3 9.45l-7.72 7.72c-.78.78-.78 2.05 0 2.83L4 21.41c.39.39.9.59 1.41.59.51 0 1.02-.2 1.41-.59l7.78-7.78 2.81-2.81c.8-.78.8-2.07 0-2.86zM5.41 20L4 18.59l7.72-7.72 1.47 1.35L5.41 20z\"/>\n",
              "  </svg>\n",
              "      </button>\n",
              "      \n",
              "  <style>\n",
              "    .colab-df-container {\n",
              "      display:flex;\n",
              "      flex-wrap:wrap;\n",
              "      gap: 12px;\n",
              "    }\n",
              "\n",
              "    .colab-df-convert {\n",
              "      background-color: #E8F0FE;\n",
              "      border: none;\n",
              "      border-radius: 50%;\n",
              "      cursor: pointer;\n",
              "      display: none;\n",
              "      fill: #1967D2;\n",
              "      height: 32px;\n",
              "      padding: 0 0 0 0;\n",
              "      width: 32px;\n",
              "    }\n",
              "\n",
              "    .colab-df-convert:hover {\n",
              "      background-color: #E2EBFA;\n",
              "      box-shadow: 0px 1px 2px rgba(60, 64, 67, 0.3), 0px 1px 3px 1px rgba(60, 64, 67, 0.15);\n",
              "      fill: #174EA6;\n",
              "    }\n",
              "\n",
              "    [theme=dark] .colab-df-convert {\n",
              "      background-color: #3B4455;\n",
              "      fill: #D2E3FC;\n",
              "    }\n",
              "\n",
              "    [theme=dark] .colab-df-convert:hover {\n",
              "      background-color: #434B5C;\n",
              "      box-shadow: 0px 1px 3px 1px rgba(0, 0, 0, 0.15);\n",
              "      filter: drop-shadow(0px 1px 2px rgba(0, 0, 0, 0.3));\n",
              "      fill: #FFFFFF;\n",
              "    }\n",
              "  </style>\n",
              "\n",
              "      <script>\n",
              "        const buttonEl =\n",
              "          document.querySelector('#df-3342a52b-beea-43d2-904d-5076c540592e button.colab-df-convert');\n",
              "        buttonEl.style.display =\n",
              "          google.colab.kernel.accessAllowed ? 'block' : 'none';\n",
              "\n",
              "        async function convertToInteractive(key) {\n",
              "          const element = document.querySelector('#df-3342a52b-beea-43d2-904d-5076c540592e');\n",
              "          const dataTable =\n",
              "            await google.colab.kernel.invokeFunction('convertToInteractive',\n",
              "                                                     [key], {});\n",
              "          if (!dataTable) return;\n",
              "\n",
              "          const docLinkHtml = 'Like what you see? Visit the ' +\n",
              "            '<a target=\"_blank\" href=https://colab.research.google.com/notebooks/data_table.ipynb>data table notebook</a>'\n",
              "            + ' to learn more about interactive tables.';\n",
              "          element.innerHTML = '';\n",
              "          dataTable['output_type'] = 'display_data';\n",
              "          await google.colab.output.renderOutput(dataTable, element);\n",
              "          const docLink = document.createElement('div');\n",
              "          docLink.innerHTML = docLinkHtml;\n",
              "          element.appendChild(docLink);\n",
              "        }\n",
              "      </script>\n",
              "    </div>\n",
              "  </div>\n",
              "  "
            ]
          },
          "metadata": {},
          "execution_count": 64
        }
      ]
    },
    {
      "cell_type": "code",
      "source": [
        "df.kfold.value_counts()"
      ],
      "metadata": {
        "colab": {
          "base_uri": "https://localhost:8080/"
        },
        "id": "W8EnIr1JW0R2",
        "outputId": "efa7a0d5-acb5-460d-da4c-5d0a84c52208"
      },
      "execution_count": null,
      "outputs": [
        {
          "output_type": "execute_result",
          "data": {
            "text/plain": [
              "0    82540\n",
              "1    82540\n",
              "2    82540\n",
              "4    82539\n",
              "3    82539\n",
              "Name: kfold, dtype: int64"
            ]
          },
          "metadata": {},
          "execution_count": 65
        }
      ]
    },
    {
      "cell_type": "code",
      "source": [
        "df.to_csv(\"drive/MyDrive/input/azure/bulldozers/TranskFoldTrainAndValid.csv\", index=False)"
      ],
      "metadata": {
        "id": "dcmtBX_VXLpU"
      },
      "execution_count": null,
      "outputs": []
    },
    {
      "cell_type": "markdown",
      "source": [
        "## XGBRegressor"
      ],
      "metadata": {
        "id": "c5aM48QnYJ8f"
      }
    },
    {
      "cell_type": "code",
      "source": [
        "df = pd.read_csv(\"drive/MyDrive/input/azure/bulldozers/TranskFoldTrainAndValid.csv\")\n",
        "df.head()"
      ],
      "metadata": {
        "colab": {
          "base_uri": "https://localhost:8080/",
          "height": 299
        },
        "id": "vxrpSpwgYOu5",
        "outputId": "16196e1a-e49e-43e0-89ee-8e8c5c2905da"
      },
      "execution_count": null,
      "outputs": [
        {
          "output_type": "execute_result",
          "data": {
            "text/plain": [
              "   SalesID  SalePrice  MachineID  ModelID  datasource  auctioneerID  YearMade  \\\n",
              "0  1646770     9500.0    1126363     8434         132          18.0      1974   \n",
              "1  1821514    14000.0    1194089    10150         132          99.0      1980   \n",
              "2  1505138    50000.0    1473654     4139         132          99.0      1978   \n",
              "3  1671174    16000.0    1327630     8591         132          99.0      1980   \n",
              "4  1329056    22000.0    1336053     4089         132          99.0      1984   \n",
              "\n",
              "   MachineHoursCurrentMeter  UsageBand  fiModelDesc  ...  \\\n",
              "0                       0.0          0         4593  ...   \n",
              "1                       0.0          0         1820  ...   \n",
              "2                       0.0          0         2348  ...   \n",
              "3                       0.0          0         1819  ...   \n",
              "4                       0.0          0         2119  ...   \n",
              "\n",
              "   Stick_Length_is_missing  Thumb_is_missing  Pattern_Changer_is_missing  \\\n",
              "0                     True              True                        True   \n",
              "1                     True              True                        True   \n",
              "2                     True              True                        True   \n",
              "3                     True              True                        True   \n",
              "4                     True              True                        True   \n",
              "\n",
              "   Grouser_Type_is_missing  Backhoe_Mounting_is_missing  \\\n",
              "0                     True                        False   \n",
              "1                     True                         True   \n",
              "2                     True                        False   \n",
              "3                     True                         True   \n",
              "4                     True                        False   \n",
              "\n",
              "   Blade_Type_is_missing  Travel_Controls_is_missing  \\\n",
              "0                  False                       False   \n",
              "1                   True                        True   \n",
              "2                  False                       False   \n",
              "3                   True                        True   \n",
              "4                  False                       False   \n",
              "\n",
              "   Differential_Type_is_missing  Steering_Controls_is_missing  kfold  \n",
              "0                          True                          True      0  \n",
              "1                         False                         False      4  \n",
              "2                          True                          True      1  \n",
              "3                         False                         False      0  \n",
              "4                          True                          True      0  \n",
              "\n",
              "[5 rows x 104 columns]"
            ],
            "text/html": [
              "\n",
              "  <div id=\"df-c36cc74b-4dec-422c-b2fe-c30cb009f12f\">\n",
              "    <div class=\"colab-df-container\">\n",
              "      <div>\n",
              "<style scoped>\n",
              "    .dataframe tbody tr th:only-of-type {\n",
              "        vertical-align: middle;\n",
              "    }\n",
              "\n",
              "    .dataframe tbody tr th {\n",
              "        vertical-align: top;\n",
              "    }\n",
              "\n",
              "    .dataframe thead th {\n",
              "        text-align: right;\n",
              "    }\n",
              "</style>\n",
              "<table border=\"1\" class=\"dataframe\">\n",
              "  <thead>\n",
              "    <tr style=\"text-align: right;\">\n",
              "      <th></th>\n",
              "      <th>SalesID</th>\n",
              "      <th>SalePrice</th>\n",
              "      <th>MachineID</th>\n",
              "      <th>ModelID</th>\n",
              "      <th>datasource</th>\n",
              "      <th>auctioneerID</th>\n",
              "      <th>YearMade</th>\n",
              "      <th>MachineHoursCurrentMeter</th>\n",
              "      <th>UsageBand</th>\n",
              "      <th>fiModelDesc</th>\n",
              "      <th>...</th>\n",
              "      <th>Stick_Length_is_missing</th>\n",
              "      <th>Thumb_is_missing</th>\n",
              "      <th>Pattern_Changer_is_missing</th>\n",
              "      <th>Grouser_Type_is_missing</th>\n",
              "      <th>Backhoe_Mounting_is_missing</th>\n",
              "      <th>Blade_Type_is_missing</th>\n",
              "      <th>Travel_Controls_is_missing</th>\n",
              "      <th>Differential_Type_is_missing</th>\n",
              "      <th>Steering_Controls_is_missing</th>\n",
              "      <th>kfold</th>\n",
              "    </tr>\n",
              "  </thead>\n",
              "  <tbody>\n",
              "    <tr>\n",
              "      <th>0</th>\n",
              "      <td>1646770</td>\n",
              "      <td>9500.0</td>\n",
              "      <td>1126363</td>\n",
              "      <td>8434</td>\n",
              "      <td>132</td>\n",
              "      <td>18.0</td>\n",
              "      <td>1974</td>\n",
              "      <td>0.0</td>\n",
              "      <td>0</td>\n",
              "      <td>4593</td>\n",
              "      <td>...</td>\n",
              "      <td>True</td>\n",
              "      <td>True</td>\n",
              "      <td>True</td>\n",
              "      <td>True</td>\n",
              "      <td>False</td>\n",
              "      <td>False</td>\n",
              "      <td>False</td>\n",
              "      <td>True</td>\n",
              "      <td>True</td>\n",
              "      <td>0</td>\n",
              "    </tr>\n",
              "    <tr>\n",
              "      <th>1</th>\n",
              "      <td>1821514</td>\n",
              "      <td>14000.0</td>\n",
              "      <td>1194089</td>\n",
              "      <td>10150</td>\n",
              "      <td>132</td>\n",
              "      <td>99.0</td>\n",
              "      <td>1980</td>\n",
              "      <td>0.0</td>\n",
              "      <td>0</td>\n",
              "      <td>1820</td>\n",
              "      <td>...</td>\n",
              "      <td>True</td>\n",
              "      <td>True</td>\n",
              "      <td>True</td>\n",
              "      <td>True</td>\n",
              "      <td>True</td>\n",
              "      <td>True</td>\n",
              "      <td>True</td>\n",
              "      <td>False</td>\n",
              "      <td>False</td>\n",
              "      <td>4</td>\n",
              "    </tr>\n",
              "    <tr>\n",
              "      <th>2</th>\n",
              "      <td>1505138</td>\n",
              "      <td>50000.0</td>\n",
              "      <td>1473654</td>\n",
              "      <td>4139</td>\n",
              "      <td>132</td>\n",
              "      <td>99.0</td>\n",
              "      <td>1978</td>\n",
              "      <td>0.0</td>\n",
              "      <td>0</td>\n",
              "      <td>2348</td>\n",
              "      <td>...</td>\n",
              "      <td>True</td>\n",
              "      <td>True</td>\n",
              "      <td>True</td>\n",
              "      <td>True</td>\n",
              "      <td>False</td>\n",
              "      <td>False</td>\n",
              "      <td>False</td>\n",
              "      <td>True</td>\n",
              "      <td>True</td>\n",
              "      <td>1</td>\n",
              "    </tr>\n",
              "    <tr>\n",
              "      <th>3</th>\n",
              "      <td>1671174</td>\n",
              "      <td>16000.0</td>\n",
              "      <td>1327630</td>\n",
              "      <td>8591</td>\n",
              "      <td>132</td>\n",
              "      <td>99.0</td>\n",
              "      <td>1980</td>\n",
              "      <td>0.0</td>\n",
              "      <td>0</td>\n",
              "      <td>1819</td>\n",
              "      <td>...</td>\n",
              "      <td>True</td>\n",
              "      <td>True</td>\n",
              "      <td>True</td>\n",
              "      <td>True</td>\n",
              "      <td>True</td>\n",
              "      <td>True</td>\n",
              "      <td>True</td>\n",
              "      <td>False</td>\n",
              "      <td>False</td>\n",
              "      <td>0</td>\n",
              "    </tr>\n",
              "    <tr>\n",
              "      <th>4</th>\n",
              "      <td>1329056</td>\n",
              "      <td>22000.0</td>\n",
              "      <td>1336053</td>\n",
              "      <td>4089</td>\n",
              "      <td>132</td>\n",
              "      <td>99.0</td>\n",
              "      <td>1984</td>\n",
              "      <td>0.0</td>\n",
              "      <td>0</td>\n",
              "      <td>2119</td>\n",
              "      <td>...</td>\n",
              "      <td>True</td>\n",
              "      <td>True</td>\n",
              "      <td>True</td>\n",
              "      <td>True</td>\n",
              "      <td>False</td>\n",
              "      <td>False</td>\n",
              "      <td>False</td>\n",
              "      <td>True</td>\n",
              "      <td>True</td>\n",
              "      <td>0</td>\n",
              "    </tr>\n",
              "  </tbody>\n",
              "</table>\n",
              "<p>5 rows × 104 columns</p>\n",
              "</div>\n",
              "      <button class=\"colab-df-convert\" onclick=\"convertToInteractive('df-c36cc74b-4dec-422c-b2fe-c30cb009f12f')\"\n",
              "              title=\"Convert this dataframe to an interactive table.\"\n",
              "              style=\"display:none;\">\n",
              "        \n",
              "  <svg xmlns=\"http://www.w3.org/2000/svg\" height=\"24px\"viewBox=\"0 0 24 24\"\n",
              "       width=\"24px\">\n",
              "    <path d=\"M0 0h24v24H0V0z\" fill=\"none\"/>\n",
              "    <path d=\"M18.56 5.44l.94 2.06.94-2.06 2.06-.94-2.06-.94-.94-2.06-.94 2.06-2.06.94zm-11 1L8.5 8.5l.94-2.06 2.06-.94-2.06-.94L8.5 2.5l-.94 2.06-2.06.94zm10 10l.94 2.06.94-2.06 2.06-.94-2.06-.94-.94-2.06-.94 2.06-2.06.94z\"/><path d=\"M17.41 7.96l-1.37-1.37c-.4-.4-.92-.59-1.43-.59-.52 0-1.04.2-1.43.59L10.3 9.45l-7.72 7.72c-.78.78-.78 2.05 0 2.83L4 21.41c.39.39.9.59 1.41.59.51 0 1.02-.2 1.41-.59l7.78-7.78 2.81-2.81c.8-.78.8-2.07 0-2.86zM5.41 20L4 18.59l7.72-7.72 1.47 1.35L5.41 20z\"/>\n",
              "  </svg>\n",
              "      </button>\n",
              "      \n",
              "  <style>\n",
              "    .colab-df-container {\n",
              "      display:flex;\n",
              "      flex-wrap:wrap;\n",
              "      gap: 12px;\n",
              "    }\n",
              "\n",
              "    .colab-df-convert {\n",
              "      background-color: #E8F0FE;\n",
              "      border: none;\n",
              "      border-radius: 50%;\n",
              "      cursor: pointer;\n",
              "      display: none;\n",
              "      fill: #1967D2;\n",
              "      height: 32px;\n",
              "      padding: 0 0 0 0;\n",
              "      width: 32px;\n",
              "    }\n",
              "\n",
              "    .colab-df-convert:hover {\n",
              "      background-color: #E2EBFA;\n",
              "      box-shadow: 0px 1px 2px rgba(60, 64, 67, 0.3), 0px 1px 3px 1px rgba(60, 64, 67, 0.15);\n",
              "      fill: #174EA6;\n",
              "    }\n",
              "\n",
              "    [theme=dark] .colab-df-convert {\n",
              "      background-color: #3B4455;\n",
              "      fill: #D2E3FC;\n",
              "    }\n",
              "\n",
              "    [theme=dark] .colab-df-convert:hover {\n",
              "      background-color: #434B5C;\n",
              "      box-shadow: 0px 1px 3px 1px rgba(0, 0, 0, 0.15);\n",
              "      filter: drop-shadow(0px 1px 2px rgba(0, 0, 0, 0.3));\n",
              "      fill: #FFFFFF;\n",
              "    }\n",
              "  </style>\n",
              "\n",
              "      <script>\n",
              "        const buttonEl =\n",
              "          document.querySelector('#df-c36cc74b-4dec-422c-b2fe-c30cb009f12f button.colab-df-convert');\n",
              "        buttonEl.style.display =\n",
              "          google.colab.kernel.accessAllowed ? 'block' : 'none';\n",
              "\n",
              "        async function convertToInteractive(key) {\n",
              "          const element = document.querySelector('#df-c36cc74b-4dec-422c-b2fe-c30cb009f12f');\n",
              "          const dataTable =\n",
              "            await google.colab.kernel.invokeFunction('convertToInteractive',\n",
              "                                                     [key], {});\n",
              "          if (!dataTable) return;\n",
              "\n",
              "          const docLinkHtml = 'Like what you see? Visit the ' +\n",
              "            '<a target=\"_blank\" href=https://colab.research.google.com/notebooks/data_table.ipynb>data table notebook</a>'\n",
              "            + ' to learn more about interactive tables.';\n",
              "          element.innerHTML = '';\n",
              "          dataTable['output_type'] = 'display_data';\n",
              "          await google.colab.output.renderOutput(dataTable, element);\n",
              "          const docLink = document.createElement('div');\n",
              "          docLink.innerHTML = docLinkHtml;\n",
              "          element.appendChild(docLink);\n",
              "        }\n",
              "      </script>\n",
              "    </div>\n",
              "  </div>\n",
              "  "
            ]
          },
          "metadata": {},
          "execution_count": 8
        }
      ]
    },
    {
      "cell_type": "code",
      "source": [
        "df.shape"
      ],
      "metadata": {
        "id": "QR_9fMr0Rfzi",
        "outputId": "c254cd29-7849-47af-f1c7-ce9af7cb77e8",
        "colab": {
          "base_uri": "https://localhost:8080/"
        }
      },
      "execution_count": null,
      "outputs": [
        {
          "output_type": "execute_result",
          "data": {
            "text/plain": [
              "(412698, 104)"
            ]
          },
          "metadata": {},
          "execution_count": 9
        }
      ]
    },
    {
      "cell_type": "code",
      "source": [
        "from sklearn.metrics import mean_squared_log_error, mean_absolute_error, r2_score\n",
        "\n",
        "# Create function to evaluate model on a few different levels\n",
        "def show_scores(X_train, X_valid, y_train, y_valid, model):\n",
        "  \"\"\"\n",
        "  Usage > show_scores(X_train, X_valid, y_train, y_valid, model)\n",
        "  \"\"\"\n",
        "  train_preds = model.predict(X_train)\n",
        "  val_preds = model.predict(X_valid)\n",
        "  scores = {\"Training R^2\": r2_score(y_train, train_preds),\n",
        "            \"Valid R^2\": r2_score(y_valid, val_preds),\n",
        "            # If True returns MSE value, if False returns RMSE value.\n",
        "            \"Train RMSE\": mean_squared_error(y_train, train_preds, squared=False),\n",
        "            \"*Valid RMSE\": mean_squared_error(y_valid, val_preds, squared=False)}\n",
        "\n",
        "  return scores"
      ],
      "metadata": {
        "id": "HjtgwFHNrqGJ"
      },
      "execution_count": null,
      "outputs": []
    },
    {
      "cell_type": "markdown",
      "source": [
        "### Using KFolds for cross validation"
      ],
      "metadata": {
        "id": "aIkfUuTmZByx"
      }
    },
    {
      "cell_type": "code",
      "source": [
        "xgb_params = {\n",
        "              'random_state': 1,\n",
        "              'n_estimators': 20000,\n",
        "              'objective': 'reg:squarederror',\n",
        "              'n_jobs': -1,                 \n",
        "              # Only test with these parameters\n",
        "              'gpu_id': 0,\n",
        "              'predictor': 'gpu_predictor',\n",
        "              'tree_method': 'gpu_hist',\n",
        "              # Only test with these parameters\n",
        "              }"
      ],
      "metadata": {
        "id": "FMx4p63OhVIm"
      },
      "execution_count": null,
      "outputs": []
    },
    {
      "cell_type": "code",
      "source": [
        "folds=5\n",
        "total_mean_rmse = 0\n",
        "total_mean_mae = 0\n",
        "\n",
        "for fold in range(5):\n",
        "    xtrain =  df[df.kfold != fold].reset_index(drop=True)\n",
        "    xvalid = df[df.kfold == fold].reset_index(drop=True)\n",
        "\n",
        "    ytrain = xtrain.SalePrice\n",
        "    yvalid = xvalid.SalePrice\n",
        "\n",
        "    model = XGBRegressor(**xgb_params)\n",
        "    \n",
        "    # fit, validate and score       \n",
        "    model.fit(xtrain, ytrain, early_stopping_rounds=300, eval_set=[(xvalid, yvalid)], verbose=1000)\n",
        "    preds_valid = model.predict(xvalid)\n",
        "    \n",
        "    # https://scikit-learn.org/stable/modules/generated/sklearn.metrics.mean_squared_error.html\n",
        "    # If True returns MSE value, if False returns RMSE value.\n",
        "    fold_rmse = mean_squared_error(yvalid, preds_valid, squared=False)\n",
        "    fold_mae = mean_absolute_error(yvalid, preds_valid)\n",
        "\n",
        "    print(fold, fold_rmse)\n",
        "    print(fold, fold_mae)\n",
        "   \n",
        "    # calculate mean RMSE and MAE\n",
        "    total_mean_rmse += fold_rmse / folds\n",
        "    total_mean_mae += fold_mae / folds\n",
        "  \n",
        "print(f\"Total Mean RMSE: {total_mean_rmse}\")\n",
        "print(f\"Total Mean MAE: {total_mean_mae}\")"
      ],
      "metadata": {
        "id": "5NrWwhukZMvc",
        "colab": {
          "base_uri": "https://localhost:8080/"
        },
        "outputId": "cc2114a9-ff6b-4503-a274-53e660bca598"
      },
      "execution_count": null,
      "outputs": [
        {
          "output_type": "stream",
          "name": "stdout",
          "text": [
            "[0]\tvalidation_0-rmse:34896.8\n",
            "Will train until validation_0-rmse hasn't improved in 300 rounds.\n",
            "[1000]\tvalidation_0-rmse:236.045\n",
            "Stopping. Best iteration:\n",
            "[962]\tvalidation_0-rmse:235.707\n",
            "\n",
            "0 235.70671494320177\n",
            "0 53.79279831653592\n",
            "[0]\tvalidation_0-rmse:35217.2\n",
            "Will train until validation_0-rmse hasn't improved in 300 rounds.\n",
            "[1000]\tvalidation_0-rmse:297.242\n",
            "Stopping. Best iteration:\n",
            "[863]\tvalidation_0-rmse:295.762\n",
            "\n",
            "1 295.7624479695491\n",
            "1 63.91091602603662\n",
            "[0]\tvalidation_0-rmse:34930.1\n",
            "Will train until validation_0-rmse hasn't improved in 300 rounds.\n",
            "[1000]\tvalidation_0-rmse:264.809\n",
            "Stopping. Best iteration:\n",
            "[1040]\tvalidation_0-rmse:264.369\n",
            "\n",
            "2 264.3690471122155\n",
            "2 53.90674039906788\n",
            "[0]\tvalidation_0-rmse:35066\n",
            "Will train until validation_0-rmse hasn't improved in 300 rounds.\n",
            "[1000]\tvalidation_0-rmse:251.863\n",
            "Stopping. Best iteration:\n",
            "[1074]\tvalidation_0-rmse:251.57\n",
            "\n",
            "3 251.57003156796125\n",
            "3 57.16067150121836\n",
            "[0]\tvalidation_0-rmse:34917.4\n",
            "Will train until validation_0-rmse hasn't improved in 300 rounds.\n",
            "[1000]\tvalidation_0-rmse:245.577\n",
            "Stopping. Best iteration:\n",
            "[1051]\tvalidation_0-rmse:245.372\n",
            "\n",
            "4 245.3715382163219\n",
            "4 56.243856999607765\n",
            "Total Mean RMSE: 258.5559559618499\n",
            "Total Mean MAE: 57.00299664849331\n"
          ]
        }
      ]
    },
    {
      "cell_type": "code",
      "source": [
        "# BEST RMSE SO FAR!\n",
        "# Total Mean RMSE: 258.5559559618499\n",
        "# Total Mean MAE: 57.00299664849331\n",
        "\n",
        "#In Azure MAE = 5701"
      ],
      "metadata": {
        "id": "6KEKbt2xHN3t"
      },
      "execution_count": null,
      "outputs": []
    },
    {
      "cell_type": "markdown",
      "source": [
        "### Hyperparameter tuning using Optuna"
      ],
      "metadata": {
        "id": "ko9_M0Hmb5uo"
      }
    },
    {
      "cell_type": "code",
      "source": [
        "df = pd.read_csv(\"drive/MyDrive/input/azure/bulldozers/TranskFoldTrainAndValid.csv\")\n",
        "df.head()"
      ],
      "metadata": {
        "colab": {
          "base_uri": "https://localhost:8080/",
          "height": 299
        },
        "id": "qXwccVMPb-zl",
        "outputId": "c657dd81-2c47-4f3a-a557-f0c8c05ede3d"
      },
      "execution_count": null,
      "outputs": [
        {
          "output_type": "execute_result",
          "data": {
            "text/plain": [
              "   SalesID  SalePrice  MachineID  ModelID  datasource  auctioneerID  YearMade  \\\n",
              "0  1646770     9500.0    1126363     8434         132          18.0      1974   \n",
              "1  1821514    14000.0    1194089    10150         132          99.0      1980   \n",
              "2  1505138    50000.0    1473654     4139         132          99.0      1978   \n",
              "3  1671174    16000.0    1327630     8591         132          99.0      1980   \n",
              "4  1329056    22000.0    1336053     4089         132          99.0      1984   \n",
              "\n",
              "   MachineHoursCurrentMeter  UsageBand  fiModelDesc  ...  \\\n",
              "0                       0.0          0         4593  ...   \n",
              "1                       0.0          0         1820  ...   \n",
              "2                       0.0          0         2348  ...   \n",
              "3                       0.0          0         1819  ...   \n",
              "4                       0.0          0         2119  ...   \n",
              "\n",
              "   Stick_Length_is_missing  Thumb_is_missing  Pattern_Changer_is_missing  \\\n",
              "0                     True              True                        True   \n",
              "1                     True              True                        True   \n",
              "2                     True              True                        True   \n",
              "3                     True              True                        True   \n",
              "4                     True              True                        True   \n",
              "\n",
              "   Grouser_Type_is_missing  Backhoe_Mounting_is_missing  \\\n",
              "0                     True                        False   \n",
              "1                     True                         True   \n",
              "2                     True                        False   \n",
              "3                     True                         True   \n",
              "4                     True                        False   \n",
              "\n",
              "   Blade_Type_is_missing  Travel_Controls_is_missing  \\\n",
              "0                  False                       False   \n",
              "1                   True                        True   \n",
              "2                  False                       False   \n",
              "3                   True                        True   \n",
              "4                  False                       False   \n",
              "\n",
              "   Differential_Type_is_missing  Steering_Controls_is_missing  kfold  \n",
              "0                          True                          True      0  \n",
              "1                         False                         False      4  \n",
              "2                          True                          True      1  \n",
              "3                         False                         False      0  \n",
              "4                          True                          True      0  \n",
              "\n",
              "[5 rows x 104 columns]"
            ],
            "text/html": [
              "\n",
              "  <div id=\"df-d1f27096-f8db-4860-ac58-a2aaf9ebcb8d\">\n",
              "    <div class=\"colab-df-container\">\n",
              "      <div>\n",
              "<style scoped>\n",
              "    .dataframe tbody tr th:only-of-type {\n",
              "        vertical-align: middle;\n",
              "    }\n",
              "\n",
              "    .dataframe tbody tr th {\n",
              "        vertical-align: top;\n",
              "    }\n",
              "\n",
              "    .dataframe thead th {\n",
              "        text-align: right;\n",
              "    }\n",
              "</style>\n",
              "<table border=\"1\" class=\"dataframe\">\n",
              "  <thead>\n",
              "    <tr style=\"text-align: right;\">\n",
              "      <th></th>\n",
              "      <th>SalesID</th>\n",
              "      <th>SalePrice</th>\n",
              "      <th>MachineID</th>\n",
              "      <th>ModelID</th>\n",
              "      <th>datasource</th>\n",
              "      <th>auctioneerID</th>\n",
              "      <th>YearMade</th>\n",
              "      <th>MachineHoursCurrentMeter</th>\n",
              "      <th>UsageBand</th>\n",
              "      <th>fiModelDesc</th>\n",
              "      <th>...</th>\n",
              "      <th>Stick_Length_is_missing</th>\n",
              "      <th>Thumb_is_missing</th>\n",
              "      <th>Pattern_Changer_is_missing</th>\n",
              "      <th>Grouser_Type_is_missing</th>\n",
              "      <th>Backhoe_Mounting_is_missing</th>\n",
              "      <th>Blade_Type_is_missing</th>\n",
              "      <th>Travel_Controls_is_missing</th>\n",
              "      <th>Differential_Type_is_missing</th>\n",
              "      <th>Steering_Controls_is_missing</th>\n",
              "      <th>kfold</th>\n",
              "    </tr>\n",
              "  </thead>\n",
              "  <tbody>\n",
              "    <tr>\n",
              "      <th>0</th>\n",
              "      <td>1646770</td>\n",
              "      <td>9500.0</td>\n",
              "      <td>1126363</td>\n",
              "      <td>8434</td>\n",
              "      <td>132</td>\n",
              "      <td>18.0</td>\n",
              "      <td>1974</td>\n",
              "      <td>0.0</td>\n",
              "      <td>0</td>\n",
              "      <td>4593</td>\n",
              "      <td>...</td>\n",
              "      <td>True</td>\n",
              "      <td>True</td>\n",
              "      <td>True</td>\n",
              "      <td>True</td>\n",
              "      <td>False</td>\n",
              "      <td>False</td>\n",
              "      <td>False</td>\n",
              "      <td>True</td>\n",
              "      <td>True</td>\n",
              "      <td>0</td>\n",
              "    </tr>\n",
              "    <tr>\n",
              "      <th>1</th>\n",
              "      <td>1821514</td>\n",
              "      <td>14000.0</td>\n",
              "      <td>1194089</td>\n",
              "      <td>10150</td>\n",
              "      <td>132</td>\n",
              "      <td>99.0</td>\n",
              "      <td>1980</td>\n",
              "      <td>0.0</td>\n",
              "      <td>0</td>\n",
              "      <td>1820</td>\n",
              "      <td>...</td>\n",
              "      <td>True</td>\n",
              "      <td>True</td>\n",
              "      <td>True</td>\n",
              "      <td>True</td>\n",
              "      <td>True</td>\n",
              "      <td>True</td>\n",
              "      <td>True</td>\n",
              "      <td>False</td>\n",
              "      <td>False</td>\n",
              "      <td>4</td>\n",
              "    </tr>\n",
              "    <tr>\n",
              "      <th>2</th>\n",
              "      <td>1505138</td>\n",
              "      <td>50000.0</td>\n",
              "      <td>1473654</td>\n",
              "      <td>4139</td>\n",
              "      <td>132</td>\n",
              "      <td>99.0</td>\n",
              "      <td>1978</td>\n",
              "      <td>0.0</td>\n",
              "      <td>0</td>\n",
              "      <td>2348</td>\n",
              "      <td>...</td>\n",
              "      <td>True</td>\n",
              "      <td>True</td>\n",
              "      <td>True</td>\n",
              "      <td>True</td>\n",
              "      <td>False</td>\n",
              "      <td>False</td>\n",
              "      <td>False</td>\n",
              "      <td>True</td>\n",
              "      <td>True</td>\n",
              "      <td>1</td>\n",
              "    </tr>\n",
              "    <tr>\n",
              "      <th>3</th>\n",
              "      <td>1671174</td>\n",
              "      <td>16000.0</td>\n",
              "      <td>1327630</td>\n",
              "      <td>8591</td>\n",
              "      <td>132</td>\n",
              "      <td>99.0</td>\n",
              "      <td>1980</td>\n",
              "      <td>0.0</td>\n",
              "      <td>0</td>\n",
              "      <td>1819</td>\n",
              "      <td>...</td>\n",
              "      <td>True</td>\n",
              "      <td>True</td>\n",
              "      <td>True</td>\n",
              "      <td>True</td>\n",
              "      <td>True</td>\n",
              "      <td>True</td>\n",
              "      <td>True</td>\n",
              "      <td>False</td>\n",
              "      <td>False</td>\n",
              "      <td>0</td>\n",
              "    </tr>\n",
              "    <tr>\n",
              "      <th>4</th>\n",
              "      <td>1329056</td>\n",
              "      <td>22000.0</td>\n",
              "      <td>1336053</td>\n",
              "      <td>4089</td>\n",
              "      <td>132</td>\n",
              "      <td>99.0</td>\n",
              "      <td>1984</td>\n",
              "      <td>0.0</td>\n",
              "      <td>0</td>\n",
              "      <td>2119</td>\n",
              "      <td>...</td>\n",
              "      <td>True</td>\n",
              "      <td>True</td>\n",
              "      <td>True</td>\n",
              "      <td>True</td>\n",
              "      <td>False</td>\n",
              "      <td>False</td>\n",
              "      <td>False</td>\n",
              "      <td>True</td>\n",
              "      <td>True</td>\n",
              "      <td>0</td>\n",
              "    </tr>\n",
              "  </tbody>\n",
              "</table>\n",
              "<p>5 rows × 104 columns</p>\n",
              "</div>\n",
              "      <button class=\"colab-df-convert\" onclick=\"convertToInteractive('df-d1f27096-f8db-4860-ac58-a2aaf9ebcb8d')\"\n",
              "              title=\"Convert this dataframe to an interactive table.\"\n",
              "              style=\"display:none;\">\n",
              "        \n",
              "  <svg xmlns=\"http://www.w3.org/2000/svg\" height=\"24px\"viewBox=\"0 0 24 24\"\n",
              "       width=\"24px\">\n",
              "    <path d=\"M0 0h24v24H0V0z\" fill=\"none\"/>\n",
              "    <path d=\"M18.56 5.44l.94 2.06.94-2.06 2.06-.94-2.06-.94-.94-2.06-.94 2.06-2.06.94zm-11 1L8.5 8.5l.94-2.06 2.06-.94-2.06-.94L8.5 2.5l-.94 2.06-2.06.94zm10 10l.94 2.06.94-2.06 2.06-.94-2.06-.94-.94-2.06-.94 2.06-2.06.94z\"/><path d=\"M17.41 7.96l-1.37-1.37c-.4-.4-.92-.59-1.43-.59-.52 0-1.04.2-1.43.59L10.3 9.45l-7.72 7.72c-.78.78-.78 2.05 0 2.83L4 21.41c.39.39.9.59 1.41.59.51 0 1.02-.2 1.41-.59l7.78-7.78 2.81-2.81c.8-.78.8-2.07 0-2.86zM5.41 20L4 18.59l7.72-7.72 1.47 1.35L5.41 20z\"/>\n",
              "  </svg>\n",
              "      </button>\n",
              "      \n",
              "  <style>\n",
              "    .colab-df-container {\n",
              "      display:flex;\n",
              "      flex-wrap:wrap;\n",
              "      gap: 12px;\n",
              "    }\n",
              "\n",
              "    .colab-df-convert {\n",
              "      background-color: #E8F0FE;\n",
              "      border: none;\n",
              "      border-radius: 50%;\n",
              "      cursor: pointer;\n",
              "      display: none;\n",
              "      fill: #1967D2;\n",
              "      height: 32px;\n",
              "      padding: 0 0 0 0;\n",
              "      width: 32px;\n",
              "    }\n",
              "\n",
              "    .colab-df-convert:hover {\n",
              "      background-color: #E2EBFA;\n",
              "      box-shadow: 0px 1px 2px rgba(60, 64, 67, 0.3), 0px 1px 3px 1px rgba(60, 64, 67, 0.15);\n",
              "      fill: #174EA6;\n",
              "    }\n",
              "\n",
              "    [theme=dark] .colab-df-convert {\n",
              "      background-color: #3B4455;\n",
              "      fill: #D2E3FC;\n",
              "    }\n",
              "\n",
              "    [theme=dark] .colab-df-convert:hover {\n",
              "      background-color: #434B5C;\n",
              "      box-shadow: 0px 1px 3px 1px rgba(0, 0, 0, 0.15);\n",
              "      filter: drop-shadow(0px 1px 2px rgba(0, 0, 0, 0.3));\n",
              "      fill: #FFFFFF;\n",
              "    }\n",
              "  </style>\n",
              "\n",
              "      <script>\n",
              "        const buttonEl =\n",
              "          document.querySelector('#df-d1f27096-f8db-4860-ac58-a2aaf9ebcb8d button.colab-df-convert');\n",
              "        buttonEl.style.display =\n",
              "          google.colab.kernel.accessAllowed ? 'block' : 'none';\n",
              "\n",
              "        async function convertToInteractive(key) {\n",
              "          const element = document.querySelector('#df-d1f27096-f8db-4860-ac58-a2aaf9ebcb8d');\n",
              "          const dataTable =\n",
              "            await google.colab.kernel.invokeFunction('convertToInteractive',\n",
              "                                                     [key], {});\n",
              "          if (!dataTable) return;\n",
              "\n",
              "          const docLinkHtml = 'Like what you see? Visit the ' +\n",
              "            '<a target=\"_blank\" href=https://colab.research.google.com/notebooks/data_table.ipynb>data table notebook</a>'\n",
              "            + ' to learn more about interactive tables.';\n",
              "          element.innerHTML = '';\n",
              "          dataTable['output_type'] = 'display_data';\n",
              "          await google.colab.output.renderOutput(dataTable, element);\n",
              "          const docLink = document.createElement('div');\n",
              "          docLink.innerHTML = docLinkHtml;\n",
              "          element.appendChild(docLink);\n",
              "        }\n",
              "      </script>\n",
              "    </div>\n",
              "  </div>\n",
              "  "
            ]
          },
          "metadata": {},
          "execution_count": 20
        }
      ]
    },
    {
      "cell_type": "code",
      "source": [
        "def run(trial):\n",
        "    # We are optimizing in One 0th fold only\n",
        "    fold = 0\n",
        "    learning_rate = trial.suggest_float(\"learning_rate\", 1e-2, 0.25, log=True)\n",
        "    reg_lambda = trial.suggest_loguniform(\"reg_lambda\", 1e-8, 100.0)\n",
        "    reg_alpha = trial.suggest_loguniform(\"reg_alpha\", 1e-8, 100.0)\n",
        "    subsample = trial.suggest_float(\"subsample\", 0.1, 1.0)\n",
        "    colsample_bytree = trial.suggest_float(\"colsample_bytree\", 0.1, 1.0)\n",
        "    max_depth = trial.suggest_int(\"max_depth\", 1, 7)\n",
        "\n",
        "    xtrain = df[df.kfold != fold].reset_index(drop=True)\n",
        "    xvalid = df[df.kfold == fold].reset_index(drop=True)\n",
        "\n",
        "    ytrain = xtrain.SalePrice\n",
        "    yvalid = xvalid.SalePrice  \n",
        "\n",
        "    model = XGBRegressor(\n",
        "        random_state=1,\n",
        "        objective='reg:squarederror',\n",
        "        tree_method=\"gpu_hist\",\n",
        "        gpu_id=0,\n",
        "        predictor=\"gpu_predictor\",\n",
        "        n_estimators=20000,\n",
        "        learning_rate=learning_rate,\n",
        "        reg_lambda=reg_lambda,\n",
        "        reg_alpha=reg_alpha,\n",
        "        subsample=subsample,\n",
        "        colsample_bytree=colsample_bytree,\n",
        "        max_depth=max_depth,\n",
        "    )\n",
        "    model.fit(xtrain, ytrain, early_stopping_rounds=300, eval_set=[(xvalid, yvalid)], verbose=1000)\n",
        "    preds_valid = model.predict(xvalid)\n",
        "\n",
        "    # If True returns MSE value, if False returns RMSE value.\n",
        "    rmse = mean_squared_error(yvalid, preds_valid, squared=False)\n",
        "    return rmse"
      ],
      "metadata": {
        "id": "AvmZWynKcKZb"
      },
      "execution_count": null,
      "outputs": []
    },
    {
      "cell_type": "code",
      "source": [
        "study = optuna.create_study(direction=\"minimize\")\n",
        "study.optimize(run, n_trials=5)"
      ],
      "metadata": {
        "id": "htIVAjwvcjMv"
      },
      "execution_count": null,
      "outputs": []
    },
    {
      "cell_type": "code",
      "source": [
        "study.best_params"
      ],
      "metadata": {
        "colab": {
          "base_uri": "https://localhost:8080/"
        },
        "id": "nnWuvcm8cnP1",
        "outputId": "95500a4b-2bff-4fef-d4fa-e56ab30db0cf"
      },
      "execution_count": null,
      "outputs": [
        {
          "output_type": "execute_result",
          "data": {
            "text/plain": [
              "{'learning_rate': 0.04551062055450038,\n",
              " 'reg_lambda': 2.3260078384980094e-08,\n",
              " 'reg_alpha': 0.7896809973685475,\n",
              " 'subsample': 0.6443398422324955,\n",
              " 'colsample_bytree': 0.9374729485362446,\n",
              " 'max_depth': 5}"
            ]
          },
          "metadata": {},
          "execution_count": 23
        }
      ]
    },
    {
      "cell_type": "code",
      "source": [
        "# {'learning_rate': 0.01035909195820482,\n",
        "#  'reg_lambda': 3.805761687567834e-05,\n",
        "#  'reg_alpha': 0.009358510799224654,\n",
        "#  'subsample': 0.5272639150608613,\n",
        "#  'colsample_bytree': 0.8510195107224439,\n",
        "#  'max_depth': 2}"
      ],
      "metadata": {
        "id": "n3umTeh8SHev"
      },
      "execution_count": null,
      "outputs": []
    },
    {
      "cell_type": "markdown",
      "source": [
        "### Use best Hyperparameters"
      ],
      "metadata": {
        "id": "7OTvmxotpF60"
      }
    },
    {
      "cell_type": "code",
      "source": [
        "xgb_params = {\n",
        "              'random_state': 1,\n",
        "              'n_estimators': 20000,\n",
        "              'objective': 'reg:squarederror',\n",
        "              'n_jobs': -1,                 \n",
        "              # Only test with these parameters\n",
        "              'gpu_id': 0,\n",
        "              'predictor': 'gpu_predictor',\n",
        "              'tree_method': 'gpu_hist',\n",
        "              # Only test with these parameters\n",
        "              }\n",
        "\n",
        "xgb_params_best = {\n",
        "              'random_state': 1,\n",
        "              'n_estimators': 20000,\n",
        "              'objective': 'reg:squarederror',\n",
        "              'n_jobs': -1,                 \n",
        "              # Only test with these parameters\n",
        "              'gpu_id': 0,\n",
        "              'predictor': 'gpu_predictor',\n",
        "              'tree_method': 'gpu_hist',\n",
        "              # Only test with these parameters\n",
        "\n",
        "             'learning_rate': 0.04551062055450038,\n",
        "             'reg_lambda': 2.3260078384980094e-08,\n",
        "             'reg_alpha': 0.7896809973685475,\n",
        "             'subsample': 0.6443398422324955,\n",
        "             'colsample_bytree': 0.9374729485362446,\n",
        "             'max_depth': 5\n",
        "              }"
      ],
      "metadata": {
        "id": "TC3QSApUpJ6i"
      },
      "execution_count": null,
      "outputs": []
    },
    {
      "cell_type": "code",
      "source": [
        "folds=5\n",
        "total_mean_rmse = 0\n",
        "\n",
        "for fold in range(5):\n",
        "    xtrain =  df[df.kfold != fold].reset_index(drop=True)\n",
        "    xvalid = df[df.kfold == fold].reset_index(drop=True)\n",
        "\n",
        "    ytrain = xtrain.SalePrice\n",
        "    yvalid = xvalid.SalePrice\n",
        "\n",
        "    # model = XGBRegressor(**xgb_params)\n",
        "    model = XGBRegressor(**xgb_params_best)\n",
        "\n",
        "    # fit, validate and score       \n",
        "    model.fit(xtrain, ytrain, early_stopping_rounds=300, eval_set=[(xvalid, yvalid)], verbose=1000)\n",
        "    preds_valid = model.predict(xvalid)\n",
        "\n",
        "    # If True returns MSE value, if False returns RMSE value.\n",
        "    fold_rmse = mean_squared_error(yvalid, preds_valid, squared=False)\n",
        "    print(fold, fold_rmse)  \n",
        "   \n",
        "    # calculate total mean RMSE\n",
        "    total_mean_rmse += fold_rmse / folds\n",
        "  \n",
        "print(f\"Total Mean RMSE: {total_mean_rmse}\")"
      ],
      "metadata": {
        "id": "qb3pqnUepqSf"
      },
      "execution_count": null,
      "outputs": []
    },
    {
      "cell_type": "code",
      "source": [
        "# Total Mean MSE: 260.38886869600435 - Not better than 258"
      ],
      "metadata": {
        "id": "FuPWLpQEHZVB"
      },
      "execution_count": null,
      "outputs": []
    }
  ]
}